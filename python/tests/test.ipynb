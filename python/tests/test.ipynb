{
 "cells": [
  {
   "cell_type": "code",
   "execution_count": null,
   "metadata": {},
   "outputs": [],
   "source": [
    "from ...pactor.python.actor import IActor"
   ]
  },
  {
   "cell_type": "code",
   "execution_count": null,
   "metadata": {},
   "outputs": [],
   "source": [
    "import requests\n",
    "response = requests.get('https://www.google.com')\n",
    "print(response.text)"
   ]
  },
  {
   "cell_type": "code",
   "execution_count": 26,
   "metadata": {},
   "outputs": [
    {
     "data": {
      "text/plain": [
       "Ellipsis"
      ]
     },
     "execution_count": 26,
     "metadata": {},
     "output_type": "execute_result"
    }
   ],
   "source": [
    "..."
   ]
  },
  {
   "cell_type": "code",
   "execution_count": 33,
   "metadata": {},
   "outputs": [
    {
     "name": "stdout",
     "output_type": "stream",
     "text": [
      "<class 'ellipsis'>\n",
      "<class 'ellipsis'>\n",
      "True\n",
      "Ellipsis\n"
     ]
    }
   ],
   "source": [
    "print(type(Ellipsis))\n",
    "print(type(...))\n",
    "print(Ellipsis == ...)"
   ]
  },
  {
   "cell_type": "code",
   "execution_count": 25,
   "metadata": {},
   "outputs": [
    {
     "name": "stdout",
     "output_type": "stream",
     "text": [
      "[[[1]\n",
      "  [2]]\n",
      "\n",
      " [[4]\n",
      "  [5]]]\n"
     ]
    }
   ],
   "source": [
    "import numpy as np\n",
    "\n",
    "v = tuple([slice(None, None), slice(None, 2), None])\n",
    "v = tuple([slice(None, None), slice(None, 2), np.newaxis])\n",
    "A = np.array([1, 2, 3, 4, 5, 6]).reshape(2, 3)\n",
    "print(A[v])"
   ]
  },
  {
   "cell_type": "code",
   "execution_count": 36,
   "metadata": {},
   "outputs": [
    {
     "data": {
      "text/plain": [
       "2"
      ]
     },
     "execution_count": 36,
     "metadata": {},
     "output_type": "execute_result"
    }
   ],
   "source": [
    "import numpy as np\n",
    "\n",
    "v = tuple([slice(None, None), slice(None, 2), None])\n",
    "v = tuple([slice(1, 2)])\n",
    "A = np.array([1, 2, 3, 4, 5, 6])\n",
    "A[v]\n",
    "A[1]"
   ]
  },
  {
   "cell_type": "code",
   "execution_count": 45,
   "metadata": {},
   "outputs": [
    {
     "data": {
      "text/plain": [
       "array([[[1, 2, 3],\n",
       "        [4, 5, 6]]], dtype=int32)"
      ]
     },
     "execution_count": 45,
     "metadata": {},
     "output_type": "execute_result"
    }
   ],
   "source": [
    "from gymize.proto.space_pb2 import TensorProto\n",
    "import numpy as np\n",
    "\n",
    "tensor = TensorProto()\n",
    "tensor.shape.extend([1, 2, 3])\n",
    "tensor.float_array.extend([1.0, 2.0, 3.0, 4.0, 5.0, 6.0])\n",
    "\n",
    "np.array(tensor.float_array, dtype=np.int32).reshape(tensor.shape)"
   ]
  },
  {
   "cell_type": "code",
   "execution_count": 51,
   "metadata": {},
   "outputs": [
    {
     "name": "stdout",
     "output_type": "stream",
     "text": [
      "True\n",
      "True\n",
      "False\n",
      "True\n",
      "False\n",
      "True\n",
      "True\n",
      "False\n",
      "False\n",
      "True\n",
      "True\n",
      "False\n"
     ]
    }
   ],
   "source": [
    "import numpy as np\n",
    "import collections\n",
    "\n",
    "arr = [1, 2, 3, 4, 5, 6]\n",
    "dictionary = {'a': 1, 'b': 2, 'c': 3}\n",
    "nd = np.array([1, 2, 3, 4, 5])\n",
    "tup = (1, 2, 3, 4, 5,)\n",
    "\n",
    "print(isinstance(arr, collections.abc.Iterable))\n",
    "print(isinstance(arr, collections.abc.Sequence))\n",
    "print(isinstance(arr, collections.abc.Mapping))\n",
    "print(isinstance(dictionary, collections.abc.Iterable))\n",
    "print(isinstance(dictionary, collections.abc.Sequence))\n",
    "print(isinstance(dictionary, collections.abc.Mapping))\n",
    "print(isinstance(nd, collections.abc.Iterable))\n",
    "print(isinstance(nd, collections.abc.Sequence))\n",
    "print(isinstance(nd, collections.abc.Mapping))\n",
    "print(isinstance(tup, collections.abc.Iterable))\n",
    "print(isinstance(tup, collections.abc.Sequence))\n",
    "print(isinstance(tup, collections.abc.Mapping))"
   ]
  },
  {
   "cell_type": "code",
   "execution_count": 52,
   "metadata": {},
   "outputs": [
    {
     "name": "stdout",
     "output_type": "stream",
     "text": [
      "(540, 960, 3)\n",
      "(960, 540, 3)\n"
     ]
    }
   ],
   "source": [
    "import numpy as np\n",
    "\n",
    "nd = np.zeros((540, 960, 3))\n",
    "print(nd.shape)\n",
    "ndt = nd.transpose([1, 0, 2])\n",
    "print(ndt.shape)"
   ]
  },
  {
   "cell_type": "code",
   "execution_count": 59,
   "metadata": {},
   "outputs": [
    {
     "data": {
      "text/plain": [
       "'|i1'"
      ]
     },
     "execution_count": 59,
     "metadata": {},
     "output_type": "execute_result"
    }
   ],
   "source": [
    "import numpy as np\n",
    "\n",
    "np.dtype(np.int8).str"
   ]
  },
  {
   "cell_type": "code",
   "execution_count": 60,
   "metadata": {},
   "outputs": [
    {
     "data": {
      "text/plain": [
       "(1, 2, 3)"
      ]
     },
     "execution_count": 60,
     "metadata": {},
     "output_type": "execute_result"
    }
   ],
   "source": [
    "import numpy as np\n",
    "tuple(np.array([1, 2, 3]))"
   ]
  },
  {
   "cell_type": "code",
   "execution_count": 9,
   "metadata": {},
   "outputs": [
    {
     "data": {
      "text/plain": [
       "True"
      ]
     },
     "execution_count": 9,
     "metadata": {},
     "output_type": "execute_result"
    }
   ],
   "source": [
    "import numpy as np\n",
    "\n",
    "i = int(2)\n",
    "np.isscalar(i)\n",
    "type(4) == np.int64\n",
    "np.issubdtype(type(4), np.integer)\n",
    "np.issubdtype(type(4.0), np.floating)\n",
    "np.issubdtype(type(True), np.bool_)"
   ]
  },
  {
   "cell_type": "code",
   "execution_count": 1,
   "metadata": {},
   "outputs": [
    {
     "data": {
      "text/plain": [
       "[1, 2, 7, 8, 9, 5, 6]"
      ]
     },
     "execution_count": 1,
     "metadata": {},
     "output_type": "execute_result"
    }
   ],
   "source": [
    "arr = [1, 2, 3, 4, 5, 6]\n",
    "\n",
    "arr[2:4] = [7, 8, 9]\n",
    "arr"
   ]
  },
  {
   "cell_type": "code",
   "execution_count": 13,
   "metadata": {},
   "outputs": [
    {
     "data": {
      "text/plain": [
       "array([[1, 2],\n",
       "       [3, 4],\n",
       "       [5, 6]])"
      ]
     },
     "execution_count": 13,
     "metadata": {},
     "output_type": "execute_result"
    }
   ],
   "source": [
    "import numpy as np\n",
    "\n",
    "arr = np.array([[1, 2], [3, 4]])\n",
    "np.vstack([arr, np.array([5, 6])])\n"
   ]
  },
  {
   "cell_type": "code",
   "execution_count": 3,
   "metadata": {},
   "outputs": [
    {
     "name": "stdout",
     "output_type": "stream",
     "text": [
      "True\n"
     ]
    }
   ],
   "source": [
    "import numpy as np\n",
    "\n",
    "arr = np.array([[1, 2], [3, 4]])\n",
    "print((arr < 3).any())"
   ]
  }
 ],
 "metadata": {
  "kernelspec": {
   "display_name": "Python 3.8.12 ('PAIA')",
   "language": "python",
   "name": "python3"
  },
  "language_info": {
   "codemirror_mode": {
    "name": "ipython",
    "version": 3
   },
   "file_extension": ".py",
   "mimetype": "text/x-python",
   "name": "python",
   "nbconvert_exporter": "python",
   "pygments_lexer": "ipython3",
   "version": "3.8.12"
  },
  "orig_nbformat": 4,
  "vscode": {
   "interpreter": {
    "hash": "36ca23013f1e0336fbdcd2beca6718f2f398325f1765f68f5782f0b853c52dd4"
   }
  }
 },
 "nbformat": 4,
 "nbformat_minor": 2
}
